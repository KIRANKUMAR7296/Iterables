{
 "metadata": {
  "language_info": {
   "codemirror_mode": {
    "name": "ipython",
    "version": 3
   },
   "file_extension": ".py",
   "mimetype": "text/x-python",
   "name": "python",
   "nbconvert_exporter": "python",
   "pygments_lexer": "ipython3",
   "version": "3.8.4-final"
  },
  "orig_nbformat": 2,
  "kernelspec": {
   "name": "python_defaultSpec_1598928823323",
   "display_name": "Python 3.8.4 32-bit"
  }
 },
 "nbformat": 4,
 "nbformat_minor": 2,
 "cells": [
  {
   "cell_type": "markdown",
   "metadata": {},
   "source": [
    "# Iteration Skills\n",
    "\n",
    "# 1. Track Iteration with **enumerate()**\n",
    "\n",
    "* We can Create Index using **range()**"
   ]
  },
  {
   "cell_type": "code",
   "execution_count": 1,
   "metadata": {
    "tags": []
   },
   "outputs": [
    {
     "output_type": "stream",
     "name": "stdout",
     "text": "1 : Kirankumar\n2 : Paramveer\n3 : Gaurav\n4 : Pranit\n"
    }
   ],
   "source": [
    "friends = ['Kirankumar','Paramveer','Gaurav','Pranit']\n",
    "\n",
    "for i in range(len(friends)):\n",
    "    print(f'{i + 1} : {friends[i]}')"
   ]
  },
  {
   "cell_type": "code",
   "execution_count": 2,
   "metadata": {
    "tags": []
   },
   "outputs": [
    {
     "output_type": "stream",
     "name": "stdout",
     "text": "1 : Kirankumar\n2 : Paramveer\n3 : Gaurav\n4 : Pranit\n"
    }
   ],
   "source": [
    "for i,friend in enumerate(friends):\n",
    "    print(f'{i+1} : {friend}')"
   ]
  },
  {
   "cell_type": "markdown",
   "metadata": {},
   "source": [
    "# 2. Pair Iterables with **zip()**"
   ]
  },
  {
   "cell_type": "code",
   "execution_count": 3,
   "metadata": {
    "tags": []
   },
   "outputs": [
    {
     "output_type": "stream",
     "name": "stdout",
     "text": "1 Kirankumar : 24\n2 Paramveer : 27\n3 Gaurav : 25\n4 Pranit : 28\n"
    }
   ],
   "source": [
    "names = ['Kirankumar','Paramveer','Gaurav','Pranit']\n",
    "\n",
    "ages = [24,27,25,28]\n",
    "\n",
    "for i in range(len(names)):\n",
    "    name = names[i]\n",
    "    age = ages[i]\n",
    "    print(f'{i + 1} {name} : {age}')"
   ]
  },
  {
   "cell_type": "markdown",
   "metadata": {},
   "source": [
    "zip() : Join Multiple Iterables and each in Loop it Produces Tuple."
   ]
  },
  {
   "cell_type": "code",
   "execution_count": 4,
   "metadata": {
    "tags": []
   },
   "outputs": [
    {
     "output_type": "stream",
     "name": "stdout",
     "text": "Name : Kirankumar and Age : 24 Years\nName : Paramveer and Age : 27 Years\nName : Gaurav and Age : 25 Years\nName : Pranit and Age : 28 Years\n"
    }
   ],
   "source": [
    "for name,age in zip(names,ages):\n",
    "    print(f'Name : {name} and Age : {age} Years')"
   ]
  },
  {
   "cell_type": "markdown",
   "metadata": {},
   "source": [
    "# zip_longest"
   ]
  },
  {
   "cell_type": "code",
   "execution_count": 5,
   "metadata": {
    "tags": []
   },
   "outputs": [
    {
     "output_type": "stream",
     "name": "stdout",
     "text": "Name : Kirankumar and Age : 24 Years\nName : Paramveer and Age : 27 Years\nName : Gaurav and Age : 25 Years\nName : Pranit and Age : 28 Years\n"
    }
   ],
   "source": [
    "from itertools import zip_longest\n",
    "\n",
    "for name,age in zip_longest(names,ages):\n",
    "    print(f'Name : {name} and Age : {age} Years')"
   ]
  },
  {
   "cell_type": "markdown",
   "metadata": {},
   "source": [
    "# 3. Reverse Iteration with **reversed()**\n",
    "\n",
    "* Iterate a Sequence of Element in Reverse Order."
   ]
  },
  {
   "cell_type": "code",
   "execution_count": 6,
   "metadata": {
    "tags": []
   },
   "outputs": [
    {
     "output_type": "stream",
     "name": "stdout",
     "text": "Saurabh\nAkash\nKirankumar\n"
    }
   ],
   "source": [
    "student_arrived = ['Kirankumar','Akash','Saurabh']\n",
    "\n",
    "# Typical Way :\n",
    "for i in range(1, len(student_arrived) + 1):\n",
    "    print(student_arrived[-i])"
   ]
  },
  {
   "cell_type": "code",
   "execution_count": 7,
   "metadata": {
    "tags": []
   },
   "outputs": [
    {
     "output_type": "stream",
     "name": "stdout",
     "text": "Saurabh\nAkash\nKirankumar\n"
    }
   ],
   "source": [
    "# Index :\n",
    "for student in student_arrived[::-1]:\n",
    "    print(student)"
   ]
  },
  {
   "cell_type": "code",
   "execution_count": 8,
   "metadata": {
    "tags": []
   },
   "outputs": [
    {
     "output_type": "stream",
     "name": "stdout",
     "text": "Saurabh\nAkash\nKirankumar\n"
    }
   ],
   "source": [
    "# Use Reversed Function\n",
    "for student in reversed(student_arrived):\n",
    "    print(student)"
   ]
  },
  {
   "cell_type": "markdown",
   "metadata": {},
   "source": [
    "# 4. Filter Elements with filter()"
   ]
  },
  {
   "cell_type": "code",
   "execution_count": 9,
   "metadata": {
    "tags": []
   },
   "outputs": [
    {
     "output_type": "stream",
     "name": "stdout",
     "text": "Odd : 1\nOdd : 3\nOdd : 5\nOdd : 7\nOdd : 9\n"
    }
   ],
   "source": [
    "number  = [1,2,3,4,5,6,7,8,9]\n",
    "# The Typical Way\n",
    "for num in number :\n",
    "    if num % 2 : # It Represents that Num % 2 != 0\n",
    "        print(f'Odd : {num}')    "
   ]
  },
  {
   "cell_type": "code",
   "execution_count": 10,
   "metadata": {
    "tags": []
   },
   "outputs": [
    {
     "output_type": "stream",
     "name": "stdout",
     "text": "Odd : 1\nOdd : 3\nOdd : 5\nOdd : 7\nOdd : 9\n"
    }
   ],
   "source": [
    "# Use Filter \n",
    "for num in filter(lambda x : x % 2, number) :\n",
    "    print(f'Odd : {num}')"
   ]
  },
  {
   "cell_type": "markdown",
   "metadata": {},
   "source": [
    "# 5. Chain Iterables with **chain()**\n",
    "\n",
    "* Concatenate Iterables in Vertical Direction.\n",
    "\n",
    "* Concatenate Iterables from Head to Tail.\n",
    "\n",
    "* Iterating Sequentially."
   ]
  },
  {
   "cell_type": "code",
   "execution_count": 11,
   "metadata": {
    "tags": []
   },
   "outputs": [
    {
     "output_type": "stream",
     "name": "stdout",
     "text": "Odd + Even : [1, 3, 2, 4]\n\nOperate with Number : 1\nOperate with Number : 3\nOperate with Number : 2\nOperate with Number : 4\n"
    }
   ],
   "source": [
    "odd = [1,3]\n",
    "even = [2,4]\n",
    "\n",
    "# The Typical Way \n",
    "numbers = odd + even # Concatenate List \n",
    "\n",
    "print(f'Odd + Even : {numbers}\\n') \n",
    "\n",
    "for num in numbers : print(f'Operate with Number : {num}')"
   ]
  },
  {
   "cell_type": "code",
   "execution_count": 12,
   "metadata": {
    "tags": []
   },
   "outputs": [
    {
     "output_type": "stream",
     "name": "stdout",
     "text": "Operate with Number : 1\nOperate with Number : 3\nOperate with Number : 2\nOperate with Number : 4\n"
    }
   ],
   "source": [
    "# Use Chain\n",
    "from itertools import chain\n",
    "for number in chain(odd,even) : print(f'Operate with Number : {number}')"
   ]
  },
  {
   "cell_type": "markdown",
   "metadata": {},
   "source": [
    "# 6. Iterate Dictionaries\n",
    "\n",
    "* Dictionaries are very common Data Type that Stores Data in the Form of **Key Value Pair.**\n",
    "\n",
    "* Implementation uses Hashes.\n",
    "\n",
    "* It's Very Fast and Easy to Look up and Retrieve Items from Dictionaries.\n",
    "\n",
    "* The Storage of Data in the Form of Key Value Pair give us diferrent options to Iterate Dictionaries."
   ]
  },
  {
   "cell_type": "code",
   "execution_count": 13,
   "metadata": {
    "tags": []
   },
   "outputs": [
    {
     "output_type": "stream",
     "name": "stdout",
     "text": "Name\nAge\nGender\n"
    }
   ],
   "source": [
    "myself = {'Name' : 'Kirankumar', 'Age' : 24, 'Gender' : 'Male'}\n",
    "\n",
    "# Iterate the Keys :\n",
    "for key in myself : print(key)"
   ]
  },
  {
   "cell_type": "code",
   "execution_count": 14,
   "metadata": {
    "tags": []
   },
   "outputs": [
    {
     "output_type": "stream",
     "name": "stdout",
     "text": "Name\nAge\nGender\n"
    }
   ],
   "source": [
    "# Iterate using key() Method :\n",
    "for key in myself.keys() : print(key)"
   ]
  },
  {
   "cell_type": "code",
   "execution_count": 15,
   "metadata": {
    "tags": []
   },
   "outputs": [
    {
     "output_type": "stream",
     "name": "stdout",
     "text": "Kirankumar\n24\nMale\n"
    }
   ],
   "source": [
    "# Iterate the Values : \n",
    "for value in myself.values() : print(value)"
   ]
  },
  {
   "cell_type": "code",
   "execution_count": 16,
   "metadata": {
    "tags": []
   },
   "outputs": [
    {
     "output_type": "stream",
     "name": "stdout",
     "text": "Name : Kirankumar\nAge : 24\nGender : Male\n"
    }
   ],
   "source": [
    "# Iterate the Items : Key Value Pairs\n",
    "for key,value in myself.items() : print(f'{key} : {value}')"
   ]
  },
  {
   "cell_type": "code",
   "execution_count": 17,
   "metadata": {
    "tags": []
   },
   "outputs": [
    {
     "output_type": "stream",
     "name": "stdout",
     "text": "Before Updating : dict_keys(['Name', 'Age', 'Gender'])\n"
    }
   ],
   "source": [
    "dict_key = myself.keys()\n",
    "\n",
    "print(f'Before Updating : {dict_key}')"
   ]
  },
  {
   "cell_type": "code",
   "execution_count": 18,
   "metadata": {
    "tags": []
   },
   "outputs": [
    {
     "output_type": "stream",
     "name": "stdout",
     "text": "After Updating : dict_keys(['Name', 'Age', 'Gender', 'Phone'])\n"
    }
   ],
   "source": [
    "myself['Phone'] = 'Samsung' # Add New \n",
    "\n",
    "print(f'After Updating : {dict_key}') # The List gets Updated when the Fictionary is Updated."
   ]
  },
  {
   "cell_type": "markdown",
   "metadata": {},
   "source": [
    "# 7. Consider **Comprehension** as Alternatives.\n",
    "\n",
    "* If the Purpose of the List is Only to Create a List, Tuple, Set or Dictionaries then use Comprehensions.\n",
    "\n",
    "## List Comprehension : \\[ **expression** for **item** in **iterable** \\]"
   ]
  },
  {
   "cell_type": "code",
   "execution_count": 19,
   "metadata": {
    "tags": []
   },
   "outputs": [
    {
     "output_type": "stream",
     "name": "stdout",
     "text": "List Created using Comprehension : [4, 9, 25]\n"
    }
   ],
   "source": [
    "primes = [2,3,5]\n",
    "\n",
    "# Square of Prime Numbers \n",
    "square = [x*x for x in primes] # List Comprehension\n",
    "\n",
    "print(f'List Created using Comprehension : {square}')"
   ]
  },
  {
   "cell_type": "markdown",
   "metadata": {},
   "source": [
    "## Set Comprehension : \\{ **expression** for **item** in **iterable** \\}"
   ]
  },
  {
   "cell_type": "code",
   "execution_count": 20,
   "metadata": {
    "tags": []
   },
   "outputs": [
    {
     "output_type": "stream",
     "name": "stdout",
     "text": "Set Created using Comprehension : {9, 4, 25}\n"
    }
   ],
   "source": [
    "square_set = {x*x for x in primes} # Set Comprehension\n",
    "\n",
    "print(f'Set Created using Comprehension : {square_set}')"
   ]
  },
  {
   "cell_type": "markdown",
   "metadata": {},
   "source": [
    "## Tuple Comprehension : **tuple**\\( **expression** for **item** in **iterable** \\)"
   ]
  },
  {
   "cell_type": "code",
   "execution_count": 21,
   "metadata": {
    "tags": []
   },
   "outputs": [
    {
     "output_type": "stream",
     "name": "stdout",
     "text": "Tuple Created using Comprehension : (4, 9, 25)\n"
    }
   ],
   "source": [
    "square_tuple = tuple(x*x for x in primes) # Tuple Comprehension\n",
    "\n",
    "print(f'Tuple Created using Comprehension : {square_tuple}')"
   ]
  },
  {
   "cell_type": "markdown",
   "metadata": {},
   "source": [
    "## Dictionary Comprehension : \\{ **key_expression : value_expression** for **item** in **iterable** \\}"
   ]
  },
  {
   "cell_type": "code",
   "execution_count": 22,
   "metadata": {
    "tags": []
   },
   "outputs": [
    {
     "output_type": "stream",
     "name": "stdout",
     "text": "Dictionary Created using Comprehension : {2: 4, 3: 9, 5: 25}\n"
    }
   ],
   "source": [
    "square_dict = {x : x*x for x in primes} # Dictionary Comprehension\n",
    "\n",
    "print(f'Dictionary Created using Comprehension : {square_dict}')"
   ]
  },
  {
   "cell_type": "markdown",
   "metadata": {},
   "source": [
    "# 8. Consider the Else Clause :\n",
    "\n",
    "* Use of Else Clause with the **For Loop.**\n",
    "\n",
    "* If Execution Encounters any **Break** Statement, The Code in the Else Block will be **Skipped.**"
   ]
  },
  {
   "cell_type": "code",
   "execution_count": 23,
   "metadata": {
    "tags": []
   },
   "outputs": [],
   "source": [
    "def place_order(ordered_item) :\n",
    "    menu_items = ['Paneer','Prawns','Mutton','Chicken']\n",
    "\n",
    "    for name,item in ordered_item.items() :\n",
    "\n",
    "        if item not in menu_items : \n",
    "            \n",
    "            print(f\"Your Order can't served because, {name}'s {item} isn't Available 😐\")\n",
    "            \n",
    "            break # If Order consist of Item which is not Present in the Menu then Execution will End Here \n",
    "\n",
    "    else : print(\"Your Order can be Served 🙂\")"
   ]
  },
  {
   "cell_type": "code",
   "execution_count": 24,
   "metadata": {
    "tags": []
   },
   "outputs": [
    {
     "output_type": "stream",
     "name": "stdout",
     "text": "Group 1\nYour Order can't served because, Pranit's Tuna isn't Available 😐\n"
    }
   ],
   "source": [
    "print(f\"Group 1\")\n",
    "group1 = {'Kirankumar':'Paneer','Param':'Mutton','Gaurav':'Prawns','Pranit':'Tuna'}\n",
    "place_order(group1)"
   ]
  },
  {
   "cell_type": "code",
   "execution_count": 25,
   "metadata": {
    "tags": []
   },
   "outputs": [
    {
     "output_type": "stream",
     "name": "stdout",
     "text": "Group 2\nYour Order can be Served 🙂\n"
    }
   ],
   "source": [
    "print(f\"Group 2\")\n",
    "group1 = {'Kirankumar':'Paneer','Akash':'Mutton','Saurabh':'Prawns','Santy':'Paneer'}\n",
    "place_order(group1)"
   ]
  }
 ]
}